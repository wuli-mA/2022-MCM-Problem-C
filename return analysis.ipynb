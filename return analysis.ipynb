{
 "cells": [
  {
   "cell_type": "code",
   "execution_count": 5,
   "metadata": {},
   "outputs": [],
   "source": [
    "import numpy as np\n",
    "import pandas as pd"
   ]
  },
  {
   "cell_type": "code",
   "execution_count": 6,
   "metadata": {},
   "outputs": [
    {
     "data": {
      "text/html": [
       "<div>\n",
       "<style scoped>\n",
       "    .dataframe tbody tr th:only-of-type {\n",
       "        vertical-align: middle;\n",
       "    }\n",
       "\n",
       "    .dataframe tbody tr th {\n",
       "        vertical-align: top;\n",
       "    }\n",
       "\n",
       "    .dataframe thead th {\n",
       "        text-align: right;\n",
       "    }\n",
       "</style>\n",
       "<table border=\"1\" class=\"dataframe\">\n",
       "  <thead>\n",
       "    <tr style=\"text-align: right;\">\n",
       "      <th></th>\n",
       "      <th>Unnamed: 0</th>\n",
       "      <th>Cash</th>\n",
       "      <th>Bitcoin</th>\n",
       "      <th>Gold</th>\n",
       "      <th>Total</th>\n",
       "    </tr>\n",
       "  </thead>\n",
       "  <tbody>\n",
       "    <tr>\n",
       "      <th>0</th>\n",
       "      <td>0</td>\n",
       "      <td>1000.000000</td>\n",
       "      <td>0.000000</td>\n",
       "      <td>0.000000</td>\n",
       "      <td>1000.000000</td>\n",
       "    </tr>\n",
       "    <tr>\n",
       "      <th>1</th>\n",
       "      <td>1</td>\n",
       "      <td>997.324569</td>\n",
       "      <td>0.001923</td>\n",
       "      <td>0.001107</td>\n",
       "      <td>999.923809</td>\n",
       "    </tr>\n",
       "    <tr>\n",
       "      <th>2</th>\n",
       "      <td>2</td>\n",
       "      <td>994.682830</td>\n",
       "      <td>0.003853</td>\n",
       "      <td>0.002185</td>\n",
       "      <td>999.848421</td>\n",
       "    </tr>\n",
       "    <tr>\n",
       "      <th>3</th>\n",
       "      <td>3</td>\n",
       "      <td>998.753598</td>\n",
       "      <td>0.001782</td>\n",
       "      <td>0.000000</td>\n",
       "      <td>999.816807</td>\n",
       "    </tr>\n",
       "    <tr>\n",
       "      <th>4</th>\n",
       "      <td>4</td>\n",
       "      <td>999.819531</td>\n",
       "      <td>0.000000</td>\n",
       "      <td>0.000000</td>\n",
       "      <td>999.819531</td>\n",
       "    </tr>\n",
       "    <tr>\n",
       "      <th>...</th>\n",
       "      <td>...</td>\n",
       "      <td>...</td>\n",
       "      <td>...</td>\n",
       "      <td>...</td>\n",
       "      <td>...</td>\n",
       "    </tr>\n",
       "    <tr>\n",
       "      <th>1741</th>\n",
       "      <td>1741</td>\n",
       "      <td>1188.052787</td>\n",
       "      <td>0.081635</td>\n",
       "      <td>0.011656</td>\n",
       "      <td>4254.048591</td>\n",
       "    </tr>\n",
       "    <tr>\n",
       "      <th>1742</th>\n",
       "      <td>1742</td>\n",
       "      <td>1252.938737</td>\n",
       "      <td>0.079782</td>\n",
       "      <td>0.011656</td>\n",
       "      <td>4066.985338</td>\n",
       "    </tr>\n",
       "    <tr>\n",
       "      <th>1743</th>\n",
       "      <td>1743</td>\n",
       "      <td>1327.218556</td>\n",
       "      <td>0.077763</td>\n",
       "      <td>0.009395</td>\n",
       "      <td>4050.928807</td>\n",
       "    </tr>\n",
       "    <tr>\n",
       "      <th>1744</th>\n",
       "      <td>1744</td>\n",
       "      <td>1389.671552</td>\n",
       "      <td>0.076087</td>\n",
       "      <td>0.007113</td>\n",
       "      <td>4056.124619</td>\n",
       "    </tr>\n",
       "    <tr>\n",
       "      <th>1745</th>\n",
       "      <td>1745</td>\n",
       "      <td>1463.259221</td>\n",
       "      <td>0.073848</td>\n",
       "      <td>0.004827</td>\n",
       "      <td>3765.004176</td>\n",
       "    </tr>\n",
       "  </tbody>\n",
       "</table>\n",
       "<p>1746 rows × 5 columns</p>\n",
       "</div>"
      ],
      "text/plain": [
       "      Unnamed: 0         Cash   Bitcoin      Gold        Total\n",
       "0              0  1000.000000  0.000000  0.000000  1000.000000\n",
       "1              1   997.324569  0.001923  0.001107   999.923809\n",
       "2              2   994.682830  0.003853  0.002185   999.848421\n",
       "3              3   998.753598  0.001782  0.000000   999.816807\n",
       "4              4   999.819531  0.000000  0.000000   999.819531\n",
       "...          ...          ...       ...       ...          ...\n",
       "1741        1741  1188.052787  0.081635  0.011656  4254.048591\n",
       "1742        1742  1252.938737  0.079782  0.011656  4066.985338\n",
       "1743        1743  1327.218556  0.077763  0.009395  4050.928807\n",
       "1744        1744  1389.671552  0.076087  0.007113  4056.124619\n",
       "1745        1745  1463.259221  0.073848  0.004827  3765.004176\n",
       "\n",
       "[1746 rows x 5 columns]"
      ]
     },
     "execution_count": 6,
     "metadata": {},
     "output_type": "execute_result"
    }
   ],
   "source": [
    "df = pd.read_csv('C_DATA/buybuybuybuybuy.csv')\n",
    "df"
   ]
  },
  {
   "cell_type": "code",
   "execution_count": 7,
   "metadata": {},
   "outputs": [
    {
     "name": "stdout",
     "output_type": "stream",
     "text": [
      "1746\n"
     ]
    }
   ],
   "source": [
    "df1 = pd.read_csv('C_DATA\\Bitcoin Price(1).csv')\n",
    "df2 = pd.read_csv('C_DATA\\Gold Price(1).csv')\n",
    "bit_price = df1['Price'].values[78:-2]\n",
    "gld_price = df2['Price'].values[78:-2]\n",
    "print(len(bit))\n",
    "cash = df['Cash'].values\n",
    "bitcoin = df['Bitcoin'].values\n",
    "gold = df['Gold'].values\n",
    "total = df['Total'].values"
   ]
  },
  {
   "cell_type": "markdown",
   "metadata": {},
   "source": [
    "Odd ratio: The ratio of profitable trades (net of transaction costs) to total trades  "
   ]
  },
  {
   "cell_type": "code",
   "execution_count": 9,
   "metadata": {},
   "outputs": [
    {
     "data": {
      "text/plain": [
       "0.5169054441260745"
      ]
     },
     "execution_count": 9,
     "metadata": {},
     "output_type": "execute_result"
    }
   ],
   "source": [
    "diff = np.diff(total,1)\n",
    "win = np.sum(diff > 0)/len(diff)\n",
    "win"
   ]
  }
 ],
 "metadata": {
  "interpreter": {
   "hash": "d7b28286968f0a5fdf032fc2ec77e5339fcfd088a65d9ee644066db90556df6d"
  },
  "kernelspec": {
   "display_name": "Python 3.10.1 64-bit",
   "language": "python",
   "name": "python3"
  },
  "language_info": {
   "codemirror_mode": {
    "name": "ipython",
    "version": 3
   },
   "file_extension": ".py",
   "mimetype": "text/x-python",
   "name": "python",
   "nbconvert_exporter": "python",
   "pygments_lexer": "ipython3",
   "version": "3.10.1"
  },
  "orig_nbformat": 4
 },
 "nbformat": 4,
 "nbformat_minor": 2
}
