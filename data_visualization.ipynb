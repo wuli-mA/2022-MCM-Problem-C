{
 "cells": [
  {
   "cell_type": "code",
   "execution_count": 33,
   "metadata": {},
   "outputs": [],
   "source": [
    "import copy\n",
    "import pandas as pd\n",
    "import numpy as np\n",
    "import seaborn as sns\n",
    "from scipy.interpolate import CubicSpline\n",
    "import matplotlib.pyplot as plt"
   ]
  },
  {
   "cell_type": "code",
   "execution_count": 38,
   "metadata": {},
   "outputs": [
    {
     "data": {
      "text/html": [
       "<div>\n",
       "<style scoped>\n",
       "    .dataframe tbody tr th:only-of-type {\n",
       "        vertical-align: middle;\n",
       "    }\n",
       "\n",
       "    .dataframe tbody tr th {\n",
       "        vertical-align: top;\n",
       "    }\n",
       "\n",
       "    .dataframe thead th {\n",
       "        text-align: right;\n",
       "    }\n",
       "</style>\n",
       "<table border=\"1\" class=\"dataframe\">\n",
       "  <thead>\n",
       "    <tr style=\"text-align: right;\">\n",
       "      <th></th>\n",
       "      <th>Date</th>\n",
       "      <th>USD</th>\n",
       "    </tr>\n",
       "  </thead>\n",
       "  <tbody>\n",
       "    <tr>\n",
       "      <th>0</th>\n",
       "      <td>2014/9/17</td>\n",
       "      <td>1236.0</td>\n",
       "    </tr>\n",
       "    <tr>\n",
       "      <th>1</th>\n",
       "      <td>2014/9/18</td>\n",
       "      <td>1220.5</td>\n",
       "    </tr>\n",
       "    <tr>\n",
       "      <th>2</th>\n",
       "      <td>2014/9/19</td>\n",
       "      <td>1219.8</td>\n",
       "    </tr>\n",
       "    <tr>\n",
       "      <th>3</th>\n",
       "      <td>2014/9/22</td>\n",
       "      <td>1213.5</td>\n",
       "    </tr>\n",
       "    <tr>\n",
       "      <th>4</th>\n",
       "      <td>2014/9/23</td>\n",
       "      <td>1222.0</td>\n",
       "    </tr>\n",
       "    <tr>\n",
       "      <th>...</th>\n",
       "      <td>...</td>\n",
       "      <td>...</td>\n",
       "    </tr>\n",
       "    <tr>\n",
       "      <th>513</th>\n",
       "      <td>2016/9/5</td>\n",
       "      <td>1326.4</td>\n",
       "    </tr>\n",
       "    <tr>\n",
       "      <th>514</th>\n",
       "      <td>2016/9/6</td>\n",
       "      <td>1337.3</td>\n",
       "    </tr>\n",
       "    <tr>\n",
       "      <th>515</th>\n",
       "      <td>2016/9/7</td>\n",
       "      <td>1348.4</td>\n",
       "    </tr>\n",
       "    <tr>\n",
       "      <th>516</th>\n",
       "      <td>2016/9/8</td>\n",
       "      <td>1343.4</td>\n",
       "    </tr>\n",
       "    <tr>\n",
       "      <th>517</th>\n",
       "      <td>2016/9/9</td>\n",
       "      <td>1330.9</td>\n",
       "    </tr>\n",
       "  </tbody>\n",
       "</table>\n",
       "<p>518 rows × 2 columns</p>\n",
       "</div>"
      ],
      "text/plain": [
       "          Date     USD\n",
       "0    2014/9/17  1236.0\n",
       "1    2014/9/18  1220.5\n",
       "2    2014/9/19  1219.8\n",
       "3    2014/9/22  1213.5\n",
       "4    2014/9/23  1222.0\n",
       "..         ...     ...\n",
       "513   2016/9/5  1326.4\n",
       "514   2016/9/6  1337.3\n",
       "515   2016/9/7  1348.4\n",
       "516   2016/9/8  1343.4\n",
       "517   2016/9/9  1330.9\n",
       "\n",
       "[518 rows x 2 columns]"
      ]
     },
     "execution_count": 38,
     "metadata": {},
     "output_type": "execute_result"
    }
   ],
   "source": [
    "gold_df = pd.read_csv('input\\gold price org.CSV',thousands=',')\n",
    "gold_df"
   ]
  },
  {
   "cell_type": "code",
   "execution_count": 39,
   "metadata": {},
   "outputs": [],
   "source": [
    "org_date = copy.deepcopy(gold_df['Date'].values)"
   ]
  },
  {
   "cell_type": "code",
   "execution_count": 40,
   "metadata": {},
   "outputs": [],
   "source": [
    "gold_df['Date'] = pd.to_numeric(pd.to_datetime(gold_df['Date'])).values\n",
    "gold_df['Date'] /= min([gold_df['Date'][i+1] - gold_df['Date'][i] for i in range(len(gold_df['Date']) - 1)])\n",
    "gold_df['Date'] -= min(gold_df['Date'])\n",
    "gold_df['Date'] = gold_df['Date'].astype(int)"
   ]
  },
  {
   "cell_type": "code",
   "execution_count": 41,
   "metadata": {},
   "outputs": [],
   "source": [
    "tf_date = copy.deepcopy(gold_df['Date'].values)"
   ]
  },
  {
   "cell_type": "code",
   "execution_count": 42,
   "metadata": {},
   "outputs": [
    {
     "data": {
      "text/plain": [
       "{1, 3}"
      ]
     },
     "execution_count": 42,
     "metadata": {},
     "output_type": "execute_result"
    }
   ],
   "source": [
    "del_list = [gold_df['Date'][i+1] - gold_df['Date'][i] for i in range(len(gold_df['Date']) - 1)]\n",
    "set(del_list)"
   ]
  },
  {
   "cell_type": "code",
   "execution_count": 43,
   "metadata": {},
   "outputs": [
    {
     "data": {
      "text/html": [
       "<div>\n",
       "<style scoped>\n",
       "    .dataframe tbody tr th:only-of-type {\n",
       "        vertical-align: middle;\n",
       "    }\n",
       "\n",
       "    .dataframe tbody tr th {\n",
       "        vertical-align: top;\n",
       "    }\n",
       "\n",
       "    .dataframe thead th {\n",
       "        text-align: right;\n",
       "    }\n",
       "</style>\n",
       "<table border=\"1\" class=\"dataframe\">\n",
       "  <thead>\n",
       "    <tr style=\"text-align: right;\">\n",
       "      <th></th>\n",
       "      <th>Date</th>\n",
       "      <th>USD</th>\n",
       "    </tr>\n",
       "  </thead>\n",
       "  <tbody>\n",
       "    <tr>\n",
       "      <th>count</th>\n",
       "      <td>518.000000</td>\n",
       "      <td>518.000000</td>\n",
       "    </tr>\n",
       "    <tr>\n",
       "      <th>mean</th>\n",
       "      <td>361.897683</td>\n",
       "      <td>1198.622008</td>\n",
       "    </tr>\n",
       "    <tr>\n",
       "      <th>std</th>\n",
       "      <td>209.548606</td>\n",
       "      <td>75.107314</td>\n",
       "    </tr>\n",
       "    <tr>\n",
       "      <th>min</th>\n",
       "      <td>0.000000</td>\n",
       "      <td>1049.400000</td>\n",
       "    </tr>\n",
       "    <tr>\n",
       "      <th>25%</th>\n",
       "      <td>181.250000</td>\n",
       "      <td>1147.550000</td>\n",
       "    </tr>\n",
       "    <tr>\n",
       "      <th>50%</th>\n",
       "      <td>362.500000</td>\n",
       "      <td>1199.000000</td>\n",
       "    </tr>\n",
       "    <tr>\n",
       "      <th>75%</th>\n",
       "      <td>543.250000</td>\n",
       "      <td>1241.000000</td>\n",
       "    </tr>\n",
       "    <tr>\n",
       "      <th>max</th>\n",
       "      <td>723.000000</td>\n",
       "      <td>1366.300000</td>\n",
       "    </tr>\n",
       "  </tbody>\n",
       "</table>\n",
       "</div>"
      ],
      "text/plain": [
       "             Date          USD\n",
       "count  518.000000   518.000000\n",
       "mean   361.897683  1198.622008\n",
       "std    209.548606    75.107314\n",
       "min      0.000000  1049.400000\n",
       "25%    181.250000  1147.550000\n",
       "50%    362.500000  1199.000000\n",
       "75%    543.250000  1241.000000\n",
       "max    723.000000  1366.300000"
      ]
     },
     "execution_count": 43,
     "metadata": {},
     "output_type": "execute_result"
    }
   ],
   "source": [
    "gold_df.describe()"
   ]
  },
  {
   "cell_type": "code",
   "execution_count": 44,
   "metadata": {},
   "outputs": [
    {
     "data": {
      "text/plain": [
       "0      False\n",
       "1      False\n",
       "2      False\n",
       "3      False\n",
       "4      False\n",
       "       ...  \n",
       "513    False\n",
       "514    False\n",
       "515    False\n",
       "516    False\n",
       "517    False\n",
       "Name: USD, Length: 518, dtype: bool"
      ]
     },
     "execution_count": 44,
     "metadata": {},
     "output_type": "execute_result"
    }
   ],
   "source": [
    "nan_arr = gold_df['USD'].isna()\n",
    "nan_arr"
   ]
  },
  {
   "cell_type": "code",
   "execution_count": 45,
   "metadata": {},
   "outputs": [
    {
     "data": {
      "text/plain": [
       "array([  0,   1,   2,   5,   6,   7,   8,   9,  12,  13,  14,  15,  16,\n",
       "        19,  20,  21,  22,  23,  26,  27,  28,  29,  30,  33,  34,  35,\n",
       "        36,  37,  40,  41,  42,  43,  44,  47,  48,  49,  50,  51,  54,\n",
       "        55,  56,  57,  58,  61,  62,  63,  64,  65,  68,  69,  70,  71,\n",
       "        72,  75,  76,  77,  78,  79,  82,  83,  84,  85,  86,  89,  90,\n",
       "        91,  92,  93,  96,  97,  98,  99, 100, 103, 104, 105, 106, 107,\n",
       "       110, 111, 112, 113, 114, 117, 118, 119, 120, 121, 124, 125, 126,\n",
       "       127, 128, 131, 132, 133, 134, 135, 138, 139, 140, 141, 142, 145,\n",
       "       146, 147, 148, 149, 152, 153, 154, 155, 156, 159, 160, 161, 162,\n",
       "       163, 166, 167, 168, 169, 170, 173, 174, 175, 176, 177, 180, 181,\n",
       "       182, 183, 184, 187, 188, 189, 190, 191, 194, 195, 196, 197, 198,\n",
       "       201, 202, 203, 204, 205, 208, 209, 210, 211, 212, 215, 216, 217,\n",
       "       218, 219, 222, 223, 224, 225, 226, 229, 230, 231, 232, 233, 236,\n",
       "       237, 238, 239, 240, 243, 244, 245, 246, 247, 250, 251, 252, 253,\n",
       "       254, 257, 258, 259, 260, 261, 264, 265, 266, 267, 268, 271, 272,\n",
       "       273, 274, 275, 278, 279, 280, 281, 282, 285, 286, 287, 288, 289,\n",
       "       292, 293, 294, 295, 296, 299, 300, 301, 302, 303, 306, 307, 308,\n",
       "       309, 310, 313, 314, 315, 316, 317, 320, 321, 322, 323, 324, 327,\n",
       "       328, 329, 330, 331, 334, 335, 336, 337, 338, 341, 342, 343, 344,\n",
       "       345, 348, 349, 350, 351, 352, 355, 356, 357, 358, 359, 362, 363,\n",
       "       364, 365, 366, 369, 370, 371, 372, 373, 376, 377, 378, 379, 380,\n",
       "       383, 384, 385, 386, 387, 390, 391, 392, 393, 394, 397, 398, 399,\n",
       "       400, 401, 404, 405, 406, 407, 408, 411, 412, 413, 414, 415, 418,\n",
       "       419, 420, 421, 422, 425, 426, 427, 428, 429, 432, 433, 434, 435,\n",
       "       436, 439, 440, 441, 442, 443, 446, 447, 448, 449, 450, 453, 454,\n",
       "       455, 456, 457, 460, 461, 462, 463, 464, 467, 468, 469, 470, 471,\n",
       "       474, 475, 476, 477, 478, 481, 482, 483, 484, 485, 488, 489, 490,\n",
       "       491, 492, 495, 496, 497, 498, 499, 502, 503, 504, 505, 506, 509,\n",
       "       510, 511, 512, 513, 516, 517, 518, 519, 520, 523, 524, 525, 526,\n",
       "       527, 530, 531, 532, 533, 534, 537, 538, 539, 540, 541, 544, 545,\n",
       "       546, 547, 548, 551, 552, 553, 554, 555, 558, 559, 560, 561, 562,\n",
       "       565, 566, 567, 568, 569, 572, 573, 574, 575, 576, 579, 580, 581,\n",
       "       582, 583, 586, 587, 588, 589, 590, 593, 594, 595, 596, 597, 600,\n",
       "       601, 602, 603, 604, 607, 608, 609, 610, 611, 614, 615, 616, 617,\n",
       "       618, 621, 622, 623, 624, 625, 628, 629, 630, 631, 632, 635, 636,\n",
       "       637, 638, 639, 642, 643, 644, 645, 646, 649, 650, 651, 652, 653,\n",
       "       656, 657, 658, 659, 660, 663, 664, 665, 666, 667, 670, 671, 672,\n",
       "       673, 674, 677, 678, 679, 680, 681, 684, 685, 686, 687, 688, 691,\n",
       "       692, 693, 694, 695, 698, 699, 700, 701, 702, 705, 706, 707, 708,\n",
       "       709, 712, 713, 714, 715, 716, 719, 720, 721, 722, 723])"
      ]
     },
     "execution_count": 45,
     "metadata": {},
     "output_type": "execute_result"
    }
   ],
   "source": [
    "gold_df[~nan_arr]['Date'].values"
   ]
  },
  {
   "cell_type": "code",
   "execution_count": 47,
   "metadata": {},
   "outputs": [
    {
     "data": {
      "image/png": "[encoded data removed]",
      "text/plain": [
       "<Figure size 432x288 with 1 Axes>"
      ]
     },
     "metadata": {
      "needs_background": "light"
     },
     "output_type": "display_data"
    }
   ],
   "source": [
    "sns.lineplot(data=gold_df['USD'].values)\n",
    "plt.show()"
   ]
  },
  {
   "cell_type": "code",
   "execution_count": 53,
   "metadata": {},
   "outputs": [
    {
     "data": {
      "image/png": "[encoded data removed]",
      "text/plain": [
       "<Figure size 432x288 with 1 Axes>"
      ]
     },
     "metadata": {
      "needs_background": "light"
     },
     "output_type": "display_data"
    }
   ],
   "source": [
    "plt.plot(gold_df['Date'], gold_df['USD'])\n",
    "plt.show()"
   ]
  },
  {
   "cell_type": "code",
   "execution_count": 54,
   "metadata": {},
   "outputs": [
    {
     "data": {
      "text/plain": [
       "array(['2014/9/17', '2014/9/18', '2014/9/19', '2014/9/22', '2014/9/23',\n",
       "       '2014/9/24', '2014/9/25', '2014/9/26', '2014/9/29', '2014/9/30',\n",
       "       '2014/10/1', '2014/10/2', '2014/10/3', '2014/10/6', '2014/10/7',\n",
       "       '2014/10/8', '2014/10/9', '2014/10/10', '2014/10/13', '2014/10/14',\n",
       "       '2014/10/15', '2014/10/16', '2014/10/17', '2014/10/20',\n",
       "       '2014/10/21', '2014/10/22', '2014/10/23', '2014/10/24',\n",
       "       '2014/10/27', '2014/10/28', '2014/10/29', '2014/10/30',\n",
       "       '2014/10/31', '2014/11/3', '2014/11/4', '2014/11/5', '2014/11/6',\n",
       "       '2014/11/7', '2014/11/10', '2014/11/11', '2014/11/12',\n",
       "       '2014/11/13', '2014/11/14', '2014/11/17', '2014/11/18',\n",
       "       '2014/11/19', '2014/11/20', '2014/11/21', '2014/11/24',\n",
       "       '2014/11/25', '2014/11/26', '2014/11/27', '2014/11/28',\n",
       "       '2014/12/1', '2014/12/2', '2014/12/3', '2014/12/4', '2014/12/5',\n",
       "       '2014/12/8', '2014/12/9', '2014/12/10', '2014/12/11', '2014/12/12',\n",
       "       '2014/12/15', '2014/12/16', '2014/12/17', '2014/12/18',\n",
       "       '2014/12/19', '2014/12/22', '2014/12/23', '2014/12/24',\n",
       "       '2014/12/25', '2014/12/26', '2014/12/29', '2014/12/30',\n",
       "       '2014/12/31', '2015/1/1', '2015/1/2', '2015/1/5', '2015/1/6',\n",
       "       '2015/1/7', '2015/1/8', '2015/1/9', '2015/1/12', '2015/1/13',\n",
       "       '2015/1/14', '2015/1/15', '2015/1/16', '2015/1/19', '2015/1/20',\n",
       "       '2015/1/21', '2015/1/22', '2015/1/23', '2015/1/26', '2015/1/27',\n",
       "       '2015/1/28', '2015/1/29', '2015/1/30', '2015/2/2', '2015/2/3',\n",
       "       '2015/2/4', '2015/2/5', '2015/2/6', '2015/2/9', '2015/2/10',\n",
       "       '2015/2/11', '2015/2/12', '2015/2/13', '2015/2/16', '2015/2/17',\n",
       "       '2015/2/18', '2015/2/19', '2015/2/20', '2015/2/23', '2015/2/24',\n",
       "       '2015/2/25', '2015/2/26', '2015/2/27', '2015/3/2', '2015/3/3',\n",
       "       '2015/3/4', '2015/3/5', '2015/3/6', '2015/3/9', '2015/3/10',\n",
       "       '2015/3/11', '2015/3/12', '2015/3/13', '2015/3/16', '2015/3/17',\n",
       "       '2015/3/18', '2015/3/19', '2015/3/20', '2015/3/23', '2015/3/24',\n",
       "       '2015/3/25', '2015/3/26', '2015/3/27', '2015/3/30', '2015/3/31',\n",
       "       '2015/4/1', '2015/4/2', '2015/4/3', '2015/4/6', '2015/4/7',\n",
       "       '2015/4/8', '2015/4/9', '2015/4/10', '2015/4/13', '2015/4/14',\n",
       "       '2015/4/15', '2015/4/16', '2015/4/17', '2015/4/20', '2015/4/21',\n",
       "       '2015/4/22', '2015/4/23', '2015/4/24', '2015/4/27', '2015/4/28',\n",
       "       '2015/4/29', '2015/4/30', '2015/5/1', '2015/5/4', '2015/5/5',\n",
       "       '2015/5/6', '2015/5/7', '2015/5/8', '2015/5/11', '2015/5/12',\n",
       "       '2015/5/13', '2015/5/14', '2015/5/15', '2015/5/18', '2015/5/19',\n",
       "       '2015/5/20', '2015/5/21', '2015/5/22', '2015/5/25', '2015/5/26',\n",
       "       '2015/5/27', '2015/5/28', '2015/5/29', '2015/6/1', '2015/6/2',\n",
       "       '2015/6/3', '2015/6/4', '2015/6/5', '2015/6/8', '2015/6/9',\n",
       "       '2015/6/10', '2015/6/11', '2015/6/12', '2015/6/15', '2015/6/16',\n",
       "       '2015/6/17', '2015/6/18', '2015/6/19', '2015/6/22', '2015/6/23',\n",
       "       '2015/6/24', '2015/6/25', '2015/6/26', '2015/6/29', '2015/6/30',\n",
       "       '2015/7/1', '2015/7/2', '2015/7/3', '2015/7/6', '2015/7/7',\n",
       "       '2015/7/8', '2015/7/9', '2015/7/10', '2015/7/13', '2015/7/14',\n",
       "       '2015/7/15', '2015/7/16', '2015/7/17', '2015/7/20', '2015/7/21',\n",
       "       '2015/7/22', '2015/7/23', '2015/7/24', '2015/7/27', '2015/7/28',\n",
       "       '2015/7/29', '2015/7/30', '2015/7/31', '2015/8/3', '2015/8/4',\n",
       "       '2015/8/5', '2015/8/6', '2015/8/7', '2015/8/10', '2015/8/11',\n",
       "       '2015/8/12', '2015/8/13', '2015/8/14', '2015/8/17', '2015/8/18',\n",
       "       '2015/8/19', '2015/8/20', '2015/8/21', '2015/8/24', '2015/8/25',\n",
       "       '2015/8/26', '2015/8/27', '2015/8/28', '2015/8/31', '2015/9/1',\n",
       "       '2015/9/2', '2015/9/3', '2015/9/4', '2015/9/7', '2015/9/8',\n",
       "       '2015/9/9', '2015/9/10', '2015/9/11', '2015/9/14', '2015/9/15',\n",
       "       '2015/9/16', '2015/9/17', '2015/9/18', '2015/9/21', '2015/9/22',\n",
       "       '2015/9/23', '2015/9/24', '2015/9/25', '2015/9/28', '2015/9/29',\n",
       "       '2015/9/30', '2015/10/1', '2015/10/2', '2015/10/5', '2015/10/6',\n",
       "       '2015/10/7', '2015/10/8', '2015/10/9', '2015/10/12', '2015/10/13',\n",
       "       '2015/10/14', '2015/10/15', '2015/10/16', '2015/10/19',\n",
       "       '2015/10/20', '2015/10/21', '2015/10/22', '2015/10/23',\n",
       "       '2015/10/26', '2015/10/27', '2015/10/28', '2015/10/29',\n",
       "       '2015/10/30', '2015/11/2', '2015/11/3', '2015/11/4', '2015/11/5',\n",
       "       '2015/11/6', '2015/11/9', '2015/11/10', '2015/11/11', '2015/11/12',\n",
       "       '2015/11/13', '2015/11/16', '2015/11/17', '2015/11/18',\n",
       "       '2015/11/19', '2015/11/20', '2015/11/23', '2015/11/24',\n",
       "       '2015/11/25', '2015/11/26', '2015/11/27', '2015/11/30',\n",
       "       '2015/12/1', '2015/12/2', '2015/12/3', '2015/12/4', '2015/12/7',\n",
       "       '2015/12/8', '2015/12/9', '2015/12/10', '2015/12/11', '2015/12/14',\n",
       "       '2015/12/15', '2015/12/16', '2015/12/17', '2015/12/18',\n",
       "       '2015/12/21', '2015/12/22', '2015/12/23', '2015/12/24',\n",
       "       '2015/12/25', '2015/12/28', '2015/12/29', '2015/12/30',\n",
       "       '2015/12/31', '2016/1/1', '2016/1/4', '2016/1/5', '2016/1/6',\n",
       "       '2016/1/7', '2016/1/8', '2016/1/11', '2016/1/12', '2016/1/13',\n",
       "       '2016/1/14', '2016/1/15', '2016/1/18', '2016/1/19', '2016/1/20',\n",
       "       '2016/1/21', '2016/1/22', '2016/1/25', '2016/1/26', '2016/1/27',\n",
       "       '2016/1/28', '2016/1/29', '2016/2/1', '2016/2/2', '2016/2/3',\n",
       "       '2016/2/4', '2016/2/5', '2016/2/8', '2016/2/9', '2016/2/10',\n",
       "       '2016/2/11', '2016/2/12', '2016/2/15', '2016/2/16', '2016/2/17',\n",
       "       '2016/2/18', '2016/2/19', '2016/2/22', '2016/2/23', '2016/2/24',\n",
       "       '2016/2/25', '2016/2/26', '2016/2/29', '2016/3/1', '2016/3/2',\n",
       "       '2016/3/3', '2016/3/4', '2016/3/7', '2016/3/8', '2016/3/9',\n",
       "       '2016/3/10', '2016/3/11', '2016/3/14', '2016/3/15', '2016/3/16',\n",
       "       '2016/3/17', '2016/3/18', '2016/3/21', '2016/3/22', '2016/3/23',\n",
       "       '2016/3/24', '2016/3/25', '2016/3/28', '2016/3/29', '2016/3/30',\n",
       "       '2016/3/31', '2016/4/1', '2016/4/4', '2016/4/5', '2016/4/6',\n",
       "       '2016/4/7', '2016/4/8', '2016/4/11', '2016/4/12', '2016/4/13',\n",
       "       '2016/4/14', '2016/4/15', '2016/4/18', '2016/4/19', '2016/4/20',\n",
       "       '2016/4/21', '2016/4/22', '2016/4/25', '2016/4/26', '2016/4/27',\n",
       "       '2016/4/28', '2016/4/29', '2016/5/2', '2016/5/3', '2016/5/4',\n",
       "       '2016/5/5', '2016/5/6', '2016/5/9', '2016/5/10', '2016/5/11',\n",
       "       '2016/5/12', '2016/5/13', '2016/5/16', '2016/5/17', '2016/5/18',\n",
       "       '2016/5/19', '2016/5/20', '2016/5/23', '2016/5/24', '2016/5/25',\n",
       "       '2016/5/26', '2016/5/27', '2016/5/30', '2016/5/31', '2016/6/1',\n",
       "       '2016/6/2', '2016/6/3', '2016/6/6', '2016/6/7', '2016/6/8',\n",
       "       '2016/6/9', '2016/6/10', '2016/6/13', '2016/6/14', '2016/6/15',\n",
       "       '2016/6/16', '2016/6/17', '2016/6/20', '2016/6/21', '2016/6/22',\n",
       "       '2016/6/23', '2016/6/24', '2016/6/27', '2016/6/28', '2016/6/29',\n",
       "       '2016/6/30', '2016/7/1', '2016/7/4', '2016/7/5', '2016/7/6',\n",
       "       '2016/7/7', '2016/7/8', '2016/7/11', '2016/7/12', '2016/7/13',\n",
       "       '2016/7/14', '2016/7/15', '2016/7/18', '2016/7/19', '2016/7/20',\n",
       "       '2016/7/21', '2016/7/22', '2016/7/25', '2016/7/26', '2016/7/27',\n",
       "       '2016/7/28', '2016/7/29', '2016/8/1', '2016/8/2', '2016/8/3',\n",
       "       '2016/8/4', '2016/8/5', '2016/8/8', '2016/8/9', '2016/8/10',\n",
       "       '2016/8/11', '2016/8/12', '2016/8/15', '2016/8/16', '2016/8/17',\n",
       "       '2016/8/18', '2016/8/19', '2016/8/22', '2016/8/23', '2016/8/24',\n",
       "       '2016/8/25', '2016/8/26', '2016/8/29', '2016/8/30', '2016/8/31',\n",
       "       '2016/9/1', '2016/9/2', '2016/9/5', '2016/9/6', '2016/9/7',\n",
       "       '2016/9/8', '2016/9/9'], dtype=object)"
      ]
     },
     "execution_count": 54,
     "metadata": {},
     "output_type": "execute_result"
    }
   ],
   "source": [
    "org_date"
   ]
  },
  {
   "cell_type": "code",
   "execution_count": 55,
   "metadata": {},
   "outputs": [
    {
     "data": {
      "text/plain": [
       "array([  0,   1,   2,   5,   6,   7,   8,   9,  12,  13,  14,  15,  16,\n",
       "        19,  20,  21,  22,  23,  26,  27,  28,  29,  30,  33,  34,  35,\n",
       "        36,  37,  40,  41,  42,  43,  44,  47,  48,  49,  50,  51,  54,\n",
       "        55,  56,  57,  58,  61,  62,  63,  64,  65,  68,  69,  70,  71,\n",
       "        72,  75,  76,  77,  78,  79,  82,  83,  84,  85,  86,  89,  90,\n",
       "        91,  92,  93,  96,  97,  98,  99, 100, 103, 104, 105, 106, 107,\n",
       "       110, 111, 112, 113, 114, 117, 118, 119, 120, 121, 124, 125, 126,\n",
       "       127, 128, 131, 132, 133, 134, 135, 138, 139, 140, 141, 142, 145,\n",
       "       146, 147, 148, 149, 152, 153, 154, 155, 156, 159, 160, 161, 162,\n",
       "       163, 166, 167, 168, 169, 170, 173, 174, 175, 176, 177, 180, 181,\n",
       "       182, 183, 184, 187, 188, 189, 190, 191, 194, 195, 196, 197, 198,\n",
       "       201, 202, 203, 204, 205, 208, 209, 210, 211, 212, 215, 216, 217,\n",
       "       218, 219, 222, 223, 224, 225, 226, 229, 230, 231, 232, 233, 236,\n",
       "       237, 238, 239, 240, 243, 244, 245, 246, 247, 250, 251, 252, 253,\n",
       "       254, 257, 258, 259, 260, 261, 264, 265, 266, 267, 268, 271, 272,\n",
       "       273, 274, 275, 278, 279, 280, 281, 282, 285, 286, 287, 288, 289,\n",
       "       292, 293, 294, 295, 296, 299, 300, 301, 302, 303, 306, 307, 308,\n",
       "       309, 310, 313, 314, 315, 316, 317, 320, 321, 322, 323, 324, 327,\n",
       "       328, 329, 330, 331, 334, 335, 336, 337, 338, 341, 342, 343, 344,\n",
       "       345, 348, 349, 350, 351, 352, 355, 356, 357, 358, 359, 362, 363,\n",
       "       364, 365, 366, 369, 370, 371, 372, 373, 376, 377, 378, 379, 380,\n",
       "       383, 384, 385, 386, 387, 390, 391, 392, 393, 394, 397, 398, 399,\n",
       "       400, 401, 404, 405, 406, 407, 408, 411, 412, 413, 414, 415, 418,\n",
       "       419, 420, 421, 422, 425, 426, 427, 428, 429, 432, 433, 434, 435,\n",
       "       436, 439, 440, 441, 442, 443, 446, 447, 448, 449, 450, 453, 454,\n",
       "       455, 456, 457, 460, 461, 462, 463, 464, 467, 468, 469, 470, 471,\n",
       "       474, 475, 476, 477, 478, 481, 482, 483, 484, 485, 488, 489, 490,\n",
       "       491, 492, 495, 496, 497, 498, 499, 502, 503, 504, 505, 506, 509,\n",
       "       510, 511, 512, 513, 516, 517, 518, 519, 520, 523, 524, 525, 526,\n",
       "       527, 530, 531, 532, 533, 534, 537, 538, 539, 540, 541, 544, 545,\n",
       "       546, 547, 548, 551, 552, 553, 554, 555, 558, 559, 560, 561, 562,\n",
       "       565, 566, 567, 568, 569, 572, 573, 574, 575, 576, 579, 580, 581,\n",
       "       582, 583, 586, 587, 588, 589, 590, 593, 594, 595, 596, 597, 600,\n",
       "       601, 602, 603, 604, 607, 608, 609, 610, 611, 614, 615, 616, 617,\n",
       "       618, 621, 622, 623, 624, 625, 628, 629, 630, 631, 632, 635, 636,\n",
       "       637, 638, 639, 642, 643, 644, 645, 646, 649, 650, 651, 652, 653,\n",
       "       656, 657, 658, 659, 660, 663, 664, 665, 666, 667, 670, 671, 672,\n",
       "       673, 674, 677, 678, 679, 680, 681, 684, 685, 686, 687, 688, 691,\n",
       "       692, 693, 694, 695, 698, 699, 700, 701, 702, 705, 706, 707, 708,\n",
       "       709, 712, 713, 714, 715, 716, 719, 720, 721, 722, 723])"
      ]
     },
     "execution_count": 55,
     "metadata": {},
     "output_type": "execute_result"
    }
   ],
   "source": [
    "tf_date"
   ]
  },
  {
   "cell_type": "code",
   "execution_count": 56,
   "metadata": {},
   "outputs": [],
   "source": [
    "gold_dic = {tf_date[i]: (gold_df['USD'][i], org_date[i]) for i in range(len(org_date))}\n",
    "np.save('input\\Gold dic.npy', gold_dic)"
   ]
  },
  {
   "cell_type": "code",
   "execution_count": 57,
   "metadata": {},
   "outputs": [],
   "source": [
    "gold_df.to_csv('input\\Gold Price.csv')"
   ]
  },
  {
   "cell_type": "code",
   "execution_count": 62,
   "metadata": {},
   "outputs": [],
   "source": [
    "bit_df = pd.read_csv('input/bit price org.csv')"
   ]
  },
  {
   "cell_type": "code",
   "execution_count": 63,
   "metadata": {},
   "outputs": [
    {
     "data": {
      "text/html": [
       "<div>\n",
       "<style scoped>\n",
       "    .dataframe tbody tr th:only-of-type {\n",
       "        vertical-align: middle;\n",
       "    }\n",
       "\n",
       "    .dataframe tbody tr th {\n",
       "        vertical-align: top;\n",
       "    }\n",
       "\n",
       "    .dataframe thead th {\n",
       "        text-align: right;\n",
       "    }\n",
       "</style>\n",
       "<table border=\"1\" class=\"dataframe\">\n",
       "  <thead>\n",
       "    <tr style=\"text-align: right;\">\n",
       "      <th></th>\n",
       "      <th>Date</th>\n",
       "      <th>High</th>\n",
       "    </tr>\n",
       "  </thead>\n",
       "  <tbody>\n",
       "    <tr>\n",
       "      <th>0</th>\n",
       "      <td>2014/9/17</td>\n",
       "      <td>468.174011</td>\n",
       "    </tr>\n",
       "    <tr>\n",
       "      <th>1</th>\n",
       "      <td>2014/9/18</td>\n",
       "      <td>456.859985</td>\n",
       "    </tr>\n",
       "    <tr>\n",
       "      <th>2</th>\n",
       "      <td>2014/9/19</td>\n",
       "      <td>427.834991</td>\n",
       "    </tr>\n",
       "    <tr>\n",
       "      <th>3</th>\n",
       "      <td>2014/9/20</td>\n",
       "      <td>423.295990</td>\n",
       "    </tr>\n",
       "    <tr>\n",
       "      <th>4</th>\n",
       "      <td>2014/9/21</td>\n",
       "      <td>412.425995</td>\n",
       "    </tr>\n",
       "    <tr>\n",
       "      <th>...</th>\n",
       "      <td>...</td>\n",
       "      <td>...</td>\n",
       "    </tr>\n",
       "    <tr>\n",
       "      <th>719</th>\n",
       "      <td>2016/9/5</td>\n",
       "      <td>609.054993</td>\n",
       "    </tr>\n",
       "    <tr>\n",
       "      <th>720</th>\n",
       "      <td>2016/9/6</td>\n",
       "      <td>610.830017</td>\n",
       "    </tr>\n",
       "    <tr>\n",
       "      <th>721</th>\n",
       "      <td>2016/9/7</td>\n",
       "      <td>614.544983</td>\n",
       "    </tr>\n",
       "    <tr>\n",
       "      <th>722</th>\n",
       "      <td>2016/9/8</td>\n",
       "      <td>628.770020</td>\n",
       "    </tr>\n",
       "    <tr>\n",
       "      <th>723</th>\n",
       "      <td>2016/9/9</td>\n",
       "      <td>626.830017</td>\n",
       "    </tr>\n",
       "  </tbody>\n",
       "</table>\n",
       "<p>724 rows × 2 columns</p>\n",
       "</div>"
      ],
      "text/plain": [
       "          Date        High\n",
       "0    2014/9/17  468.174011\n",
       "1    2014/9/18  456.859985\n",
       "2    2014/9/19  427.834991\n",
       "3    2014/9/20  423.295990\n",
       "4    2014/9/21  412.425995\n",
       "..         ...         ...\n",
       "719   2016/9/5  609.054993\n",
       "720   2016/9/6  610.830017\n",
       "721   2016/9/7  614.544983\n",
       "722   2016/9/8  628.770020\n",
       "723   2016/9/9  626.830017\n",
       "\n",
       "[724 rows x 2 columns]"
      ]
     },
     "execution_count": 63,
     "metadata": {},
     "output_type": "execute_result"
    }
   ],
   "source": [
    "bit_df"
   ]
  },
  {
   "cell_type": "code",
   "execution_count": 64,
   "metadata": {},
   "outputs": [],
   "source": [
    "org_date = copy.deepcopy(bit_df['Date'].values)"
   ]
  },
  {
   "cell_type": "code",
   "execution_count": 65,
   "metadata": {},
   "outputs": [],
   "source": [
    "bit_df['Date'] = pd.to_numeric(pd.to_datetime(bit_df['Date'])).values\n",
    "bit_df['Date'] /= min([bit_df['Date'][i+1] - bit_df['Date'][i] for i in range(len(bit_df['Date']) - 1)])\n",
    "bit_df['Date'] -= min(bit_df['Date'])\n",
    "bit_df['Date'] = bit_df['Date'].astype(int)"
   ]
  },
  {
   "cell_type": "code",
   "execution_count": 66,
   "metadata": {},
   "outputs": [],
   "source": [
    "tf_date = copy.deepcopy(bit_df['Date'].values)"
   ]
  },
  {
   "cell_type": "code",
   "execution_count": 67,
   "metadata": {},
   "outputs": [
    {
     "data": {
      "text/plain": [
       "{1}"
      ]
     },
     "execution_count": 67,
     "metadata": {},
     "output_type": "execute_result"
    }
   ],
   "source": [
    "set([bit_df['Date'][i+1] - bit_df['Date'][i] for i in range(len(bit_df['Date']) - 1)])"
   ]
  },
  {
   "cell_type": "code",
   "execution_count": null,
   "metadata": {},
   "outputs": [
    {
     "data": {
      "text/plain": [
       "{1}"
      ]
     },
     "execution_count": 25,
     "metadata": {},
     "output_type": "execute_result"
    }
   ],
   "source": [
    "del_list = [bit_df['Date'][i+1] - bit_df['Date'][i] for i in range(len(bit_df['Date']) - 1)]\n",
    "set(del_list)"
   ]
  },
  {
   "cell_type": "code",
   "execution_count": 68,
   "metadata": {},
   "outputs": [
    {
     "data": {
      "text/html": [
       "<div>\n",
       "<style scoped>\n",
       "    .dataframe tbody tr th:only-of-type {\n",
       "        vertical-align: middle;\n",
       "    }\n",
       "\n",
       "    .dataframe tbody tr th {\n",
       "        vertical-align: top;\n",
       "    }\n",
       "\n",
       "    .dataframe thead th {\n",
       "        text-align: right;\n",
       "    }\n",
       "</style>\n",
       "<table border=\"1\" class=\"dataframe\">\n",
       "  <thead>\n",
       "    <tr style=\"text-align: right;\">\n",
       "      <th></th>\n",
       "      <th>Date</th>\n",
       "      <th>High</th>\n",
       "    </tr>\n",
       "  </thead>\n",
       "  <tbody>\n",
       "    <tr>\n",
       "      <th>0</th>\n",
       "      <td>0</td>\n",
       "      <td>468.174011</td>\n",
       "    </tr>\n",
       "    <tr>\n",
       "      <th>1</th>\n",
       "      <td>1</td>\n",
       "      <td>456.859985</td>\n",
       "    </tr>\n",
       "    <tr>\n",
       "      <th>2</th>\n",
       "      <td>2</td>\n",
       "      <td>427.834991</td>\n",
       "    </tr>\n",
       "    <tr>\n",
       "      <th>3</th>\n",
       "      <td>3</td>\n",
       "      <td>423.295990</td>\n",
       "    </tr>\n",
       "    <tr>\n",
       "      <th>4</th>\n",
       "      <td>4</td>\n",
       "      <td>412.425995</td>\n",
       "    </tr>\n",
       "    <tr>\n",
       "      <th>...</th>\n",
       "      <td>...</td>\n",
       "      <td>...</td>\n",
       "    </tr>\n",
       "    <tr>\n",
       "      <th>719</th>\n",
       "      <td>719</td>\n",
       "      <td>609.054993</td>\n",
       "    </tr>\n",
       "    <tr>\n",
       "      <th>720</th>\n",
       "      <td>720</td>\n",
       "      <td>610.830017</td>\n",
       "    </tr>\n",
       "    <tr>\n",
       "      <th>721</th>\n",
       "      <td>721</td>\n",
       "      <td>614.544983</td>\n",
       "    </tr>\n",
       "    <tr>\n",
       "      <th>722</th>\n",
       "      <td>722</td>\n",
       "      <td>628.770020</td>\n",
       "    </tr>\n",
       "    <tr>\n",
       "      <th>723</th>\n",
       "      <td>723</td>\n",
       "      <td>626.830017</td>\n",
       "    </tr>\n",
       "  </tbody>\n",
       "</table>\n",
       "<p>724 rows × 2 columns</p>\n",
       "</div>"
      ],
      "text/plain": [
       "     Date        High\n",
       "0       0  468.174011\n",
       "1       1  456.859985\n",
       "2       2  427.834991\n",
       "3       3  423.295990\n",
       "4       4  412.425995\n",
       "..    ...         ...\n",
       "719   719  609.054993\n",
       "720   720  610.830017\n",
       "721   721  614.544983\n",
       "722   722  628.770020\n",
       "723   723  626.830017\n",
       "\n",
       "[724 rows x 2 columns]"
      ]
     },
     "execution_count": 68,
     "metadata": {},
     "output_type": "execute_result"
    }
   ],
   "source": [
    "bit_df"
   ]
  },
  {
   "cell_type": "code",
   "execution_count": 70,
   "metadata": {},
   "outputs": [
    {
     "data": {
      "text/plain": [
       "False"
      ]
     },
     "execution_count": 70,
     "metadata": {},
     "output_type": "execute_result"
    }
   ],
   "source": [
    "bit_df['High'].isna().any()"
   ]
  },
  {
   "cell_type": "code",
   "execution_count": 71,
   "metadata": {},
   "outputs": [],
   "source": [
    "bit_dic = {tf_date[i]: (bit_df['High'][i], org_date[i]) for i in range(len(org_date))}\n",
    "np.save('input\\Bitcoin dic.npy', bit_dic)"
   ]
  },
  {
   "cell_type": "code",
   "execution_count": 72,
   "metadata": {},
   "outputs": [],
   "source": [
    "bit_df.to_csv('input\\Bitcoin Price.csv')"
   ]
  }
 ],
 "metadata": {
  "interpreter": {
   "hash": "0b44c525ca95e5dbf893da2282eb3ec3f420cb9fa59d94f9af90ca833dc1a37c"
  },
  "kernelspec": {
   "display_name": "Python 3.8.5 ('pytorch')",
   "language": "python",
   "name": "python3"
  },
  "language_info": {
   "codemirror_mode": {
    "name": "ipython",
    "version": 3
   },
   "file_extension": ".py",
   "mimetype": "text/x-python",
   "name": "python",
   "nbconvert_exporter": "python",
   "pygments_lexer": "ipython3",
   "version": "3.8.5"
  },
  "orig_nbformat": 4
 },
 "nbformat": 4,
 "nbformat_minor": 2
}
